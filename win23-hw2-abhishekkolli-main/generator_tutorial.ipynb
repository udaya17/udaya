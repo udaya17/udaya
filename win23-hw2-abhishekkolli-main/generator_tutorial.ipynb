{
 "nbformat": 4,
 "nbformat_minor": 0,
 "metadata": {
  "colab": {
   "provenance": []
  },
  "kernelspec": {
   "name": "python3",
   "display_name": "Python 3"
  },
  "language_info": {
   "name": "python"
  }
 },
 "cells": [
  {
   "cell_type": "markdown",
   "source": [
    "# Generator functions\n",
    "\n",
    "Simply put, a generator function is a function which emits one value at a time using the `yield` keyword. \n",
    "This allows us to create functions which return very long or infinite sequences. \n",
    "We can get as many values as we need without storing the entire sequence in memory, which would be difficult or impossible.\n",
    "\n",
    "Let's look at an example using the Fibonacci sequence:"
   ],
   "metadata": {
    "id": "vfi92YDJ72yE"
   }
  },
  {
   "cell_type": "code",
   "execution_count": 5,
   "metadata": {
    "id": "skotewrQ3pWo"
   },
   "outputs": [],
   "source": [
    "def fibonacci_sequence():\n",
    "    \"\"\"Generator function which emits the Fibonacci sequence.\"\"\"\n",
    "    x = 0\n",
    "    y = 1\n",
    "    yield x\n",
    "    yield y\n",
    "    while True:\n",
    "        z = x + y\n",
    "        yield z\n",
    "        x = y\n",
    "        y = z"
   ]
  },
  {
   "cell_type": "markdown",
   "source": [
    "\n",
    "The actual return value of a generator function is a generator object:"
   ],
   "metadata": {
    "id": "_kqcbXFg8uO8"
   }
  },
  {
   "cell_type": "code",
   "source": [
    "generator = fibonacci_sequence()\n",
    "print(type(generator))\n",
    "print(generator)"
   ],
   "metadata": {
    "colab": {
     "base_uri": "https://localhost:8080/"
    },
    "id": "US_oPg5L6fzw",
    "outputId": "fcddc41d-0810-4d60-8130-f2b0bdd7aa5d"
   },
   "execution_count": 21,
   "outputs": [
    {
     "output_type": "stream",
     "name": "stdout",
     "text": [
      "<class 'generator'>\n",
      "<generator object fibonacci_sequence at 0x7f387213bf50>\n"
     ]
    }
   ]
  },
  {
   "cell_type": "markdown",
   "source": [
    "The generator object is iterable; meaning that we can always ask for the next value in the sequence by passing it to the built-in `next` function. \n",
    "The code inside the function will be run until the `yield` keyword is reached at which point execution is paused \n",
    "until we ask for the next value."
   ],
   "metadata": {
    "id": "T1EY0OA_86Jk"
   }
  },
  {
   "cell_type": "code",
   "source": [
    "print(next(generator))\n",
    "print(next(generator))\n",
    "print(next(generator))\n",
    "print(next(generator))\n",
    "print(next(generator))"
   ],
   "metadata": {
    "colab": {
     "base_uri": "https://localhost:8080/"
    },
    "id": "9HrkGnPp9BJC",
    "outputId": "24613905-a135-49be-ef29-9d3048e7cf8e"
   },
   "execution_count": 23,
   "outputs": [
    {
     "output_type": "stream",
     "name": "stdout",
     "text": [
      "0\n",
      "1\n",
      "1\n",
      "2\n",
      "3\n"
     ]
    }
   ]
  },
  {
   "cell_type": "markdown",
   "source": [
    "To start at the beginning, we can call the generator function again to get a fresh generator object:"
   ],
   "metadata": {
    "id": "k5EP1W989Gzm"
   }
  },
  {
   "cell_type": "code",
   "source": [
    "import itertools\n",
    "\n",
    "\n",
    "def take(n, iterable):\n",
    "    \"Return first n items of the iterable as a list\"\n",
    "    return list(itertools.islice(iterable, n))\n",
    "\n",
    "\n",
    "fresh_generator = fibonacci_sequence()\n",
    "print(take(10, fresh_generator))"
   ],
   "metadata": {
    "colab": {
     "base_uri": "https://localhost:8080/"
    },
    "id": "YrBBllhE4MVs",
    "outputId": "0ec4a926-cea3-437f-99e7-c1fe16a734bb"
   },
   "execution_count": 25,
   "outputs": [
    {
     "output_type": "stream",
     "name": "stdout",
     "text": [
      "[0, 1, 1, 2, 3, 5, 8, 13, 21, 34]\n"
     ]
    }
   ]
  }
 ]
}